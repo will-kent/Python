{
 "cells": [
  {
   "cell_type": "code",
   "execution_count": null,
   "metadata": {},
   "outputs": [],
   "source": [
    "import pandas as pd"
   ]
  },
  {
   "cell_type": "code",
   "execution_count": null,
   "metadata": {},
   "outputs": [],
   "source": [
    "# Location of data sources\n",
    "folder_path = \"../Data/2016_GCP_SA2/2016_GCP_SA2/\"\n",
    "file_name = \"2016Census_G01_AUS_SA2.csv\"\n",
    "output_folder = \"../Data/\"\n",
    "output_name = \"census_selected_characteristics.csv\"\n",
    "key_columns = [\"SA2_MAINCODE_2016\"]\n",
    "file_columns = [\"Tot_P_P\",\"Age_20_24_yr_P\",\"Age_25_34_yr_P\",\"Age_35_44_yr_P\",\"Age_45_54_yr_P\",\n",
    "                \"Age_55_64_yr_P\",\"Age_65_74_yr_P\",\"Age_75_84_yr_P\",\"Age_85ov_P\",\n",
    "                \"Indigenous_P_Tot_P\",\"Birthplace_Australia_P\",\"Lang_spoken_home_Eng_only_P\",\n",
    "               \"High_yr_schl_comp_Yr_12_eq_P\"]\n",
    "data_columns = key_columns + file_columns\n",
    "file_path = folder_path + file_name"
   ]
  },
  {
   "cell_type": "code",
   "execution_count": null,
   "metadata": {},
   "outputs": [],
   "source": [
    "def load_csv_data(data_path, columns = [], skip_rows = 0):\n",
    "    data = pd.read_csv(data_path, skiprows = skip_rows)\n",
    "    if len(columns) > 0:\n",
    "        data = data.loc[:,columns]\n",
    "    lowercase = lambda x: str(x).lower()\n",
    "    data.rename(lowercase, axis='columns', inplace=True)\n",
    "    return data\n",
    "\n",
    "def missing_values(data, columns = []):\n",
    "    results = pd.DataFrame(columns = [\"column_name\", \"total_missing\"])\n",
    "    for column in columns:\n",
    "        col = column\n",
    "        missing_value = data[column].isnull().sum()\n",
    "        result = {\"column_name\": [col],\n",
    "                  \"total_missing\": [missing_value]}\n",
    "        result_df = pd.DataFrame(result, columns = [\"column_name\", \"total_missing\"])\n",
    "        results = pd.concat([results, result_df])\n",
    "    return results"
   ]
  },
  {
   "cell_type": "code",
   "execution_count": null,
   "metadata": {},
   "outputs": [],
   "source": [
    "df = load_csv_data(file_path, data_columns)"
   ]
  },
  {
   "cell_type": "code",
   "execution_count": null,
   "metadata": {},
   "outputs": [],
   "source": [
    "# Should be ~2310 as this is how many SA's there are.\n",
    "len(df)"
   ]
  },
  {
   "cell_type": "code",
   "execution_count": null,
   "metadata": {},
   "outputs": [],
   "source": [
    "df.head()"
   ]
  },
  {
   "cell_type": "code",
   "execution_count": null,
   "metadata": {},
   "outputs": [],
   "source": [
    "df_columns = list(df)\n",
    "missing_df = missing_values(df, df_columns)\n",
    "missing_df"
   ]
  },
  {
   "cell_type": "code",
   "execution_count": null,
   "metadata": {},
   "outputs": [],
   "source": [
    "if \"age_20_24_percent\" not in df:\n",
    "    df[\"age_20_24_percent\"] = df[\"age_20_24_yr_p\"]/df[\"tot_p_p\"] \n",
    "    \n",
    "if \"age_25_34_percent\" not in df:\n",
    "    df[\"age_25_34_percent\"] = df[\"age_25_34_yr_p\"]/df[\"tot_p_p\"] \n",
    "    \n",
    "if \"age_35_44_percent\" not in df:\n",
    "    df[\"age_35_44_percent\"] = df[\"age_35_44_yr_p\"]/df[\"tot_p_p\"] \n",
    "    \n",
    "if \"age_45_54_percent\" not in df:\n",
    "    df[\"age_45_54_percent\"] = df[\"age_45_54_yr_p\"]/df[\"tot_p_p\"] \n",
    "    \n",
    "if \"age_55_64_percent\" not in df:\n",
    "    df[\"age_55_64_percent\"] = df[\"age_55_64_yr_p\"]/df[\"tot_p_p\"]\n",
    "    \n",
    "if \"age_65_74_percent\" not in df:\n",
    "    df[\"age_65_74_percent\"] = df[\"age_65_74_yr_p\"]/df[\"tot_p_p\"]\n",
    "    \n",
    "if \"age_75_84_percent\" not in df:\n",
    "    df[\"age_75_84_percent\"] = df[\"age_75_84_yr_p\"]/df[\"tot_p_p\"]\n",
    "    \n",
    "if \"age_85ov_percent\" not in df:\n",
    "    df[\"age_85ov_percent\"] = df[\"age_85ov_p\"]/df[\"tot_p_p\"]\n",
    "    \n",
    "if \"indigenous_pop_percent\" not in df:\n",
    "    df[\"indigenous_percent\"] = df[\"indigenous_p_tot_p\"]/df[\"tot_p_p\"]\n",
    "    \n",
    "if \"birthplace_australia_percent\" not in df:\n",
    "    df[\"birthplace_australia_percent\"] = df[\"birthplace_australia_p\"]/df[\"tot_p_p\"]\n",
    "\n",
    "if \"lang_eng_only_percent\" not in df:\n",
    "    df[\"lang_eng_only_percent\"] = df[\"lang_spoken_home_eng_only_p\"]/df[\"tot_p_p\"]\n",
    "    \n",
    "if \"high_yr_12_comp_percent\" not in df:\n",
    "    df[\"high_yr_12_comp_percent\"] = df[\"high_yr_schl_comp_yr_12_eq_p\"]/df[\"tot_p_p\"]"
   ]
  },
  {
   "cell_type": "code",
   "execution_count": null,
   "metadata": {},
   "outputs": [],
   "source": [
    "# Replace the NaN's created by calculation\n",
    "df.fillna(0, inplace = True)"
   ]
  },
  {
   "cell_type": "code",
   "execution_count": null,
   "metadata": {},
   "outputs": [],
   "source": [
    "# Confirm the Fill has worked\n",
    "df.loc[df[\"sa2_maincode_2016\"] == 801101136]"
   ]
  },
  {
   "cell_type": "code",
   "execution_count": null,
   "metadata": {},
   "outputs": [],
   "source": [
    "# Write data to disk\n",
    "df.to_csv(output_folder + output_name, index = False)"
   ]
  }
 ],
 "metadata": {
  "kernelspec": {
   "display_name": "Python 3",
   "language": "python",
   "name": "python3"
  },
  "language_info": {
   "codemirror_mode": {
    "name": "ipython",
    "version": 3
   },
   "file_extension": ".py",
   "mimetype": "text/x-python",
   "name": "python",
   "nbconvert_exporter": "python",
   "pygments_lexer": "ipython3",
   "version": "3.7.7"
  }
 },
 "nbformat": 4,
 "nbformat_minor": 4
}
