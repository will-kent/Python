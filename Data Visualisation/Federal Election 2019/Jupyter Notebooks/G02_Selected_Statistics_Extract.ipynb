{
 "cells": [
  {
   "cell_type": "code",
   "execution_count": 1,
   "metadata": {},
   "outputs": [],
   "source": [
    "import pandas as pd"
   ]
  },
  {
   "cell_type": "code",
   "execution_count": 2,
   "metadata": {},
   "outputs": [],
   "source": [
    "# Location of data sources\n",
    "folder_path = \"../Data/2016_GCP_SA2/2016_GCP_SA2/\"\n",
    "file_name = \"2016Census_G02_AUS_SA2.csv\"\n",
    "output_folder = \"../Data/\"\n",
    "output_name = \"census_selected_statistics.csv\"\n",
    "key_columns = [\"SA2_MAINCODE_2016\"]\n",
    "file_columns = [\"Median_age_persons\",\"Median_mortgage_repay_monthly\",\"Median_tot_prsnl_inc_weekly\",\"Median_rent_weekly\",\n",
    "                \"Median_tot_fam_inc_weekly\",\"Average_num_psns_per_bedroom\",\"Median_tot_hhd_inc_weekly\",\"Average_household_size\"]\n",
    "data_columns = key_columns + file_columns\n",
    "file_path = folder_path + file_name"
   ]
  },
  {
   "cell_type": "code",
   "execution_count": 3,
   "metadata": {},
   "outputs": [],
   "source": [
    "def load_csv_data(data_path, columns = [], skip_rows = 0):\n",
    "    data = pd.read_csv(data_path, skiprows = skip_rows)\n",
    "    if len(columns) > 0:\n",
    "        data = data.loc[:,columns]\n",
    "    lowercase = lambda x: str(x).lower()\n",
    "    data.rename(lowercase, axis='columns', inplace=True)\n",
    "    return data\n",
    "\n",
    "def missing_values(data, columns = []):\n",
    "    results = pd.DataFrame(columns = [\"column_name\", \"total_missing\"])\n",
    "    for column in columns:\n",
    "        col = column\n",
    "        missing_value = data[column].isnull().sum()\n",
    "        result = {\"column_name\": [col],\n",
    "                  \"total_missing\": [missing_value]}\n",
    "        result_df = pd.DataFrame(result, columns = [\"column_name\", \"total_missing\"])\n",
    "        results = pd.concat([results, result_df])\n",
    "    return results"
   ]
  },
  {
   "cell_type": "code",
   "execution_count": 4,
   "metadata": {},
   "outputs": [],
   "source": [
    "df = load_csv_data(file_path, data_columns)"
   ]
  },
  {
   "cell_type": "code",
   "execution_count": 5,
   "metadata": {},
   "outputs": [
    {
     "data": {
      "text/plain": [
       "2310"
      ]
     },
     "execution_count": 5,
     "metadata": {},
     "output_type": "execute_result"
    }
   ],
   "source": [
    "# Should be ~2310 as this is how many SA's there are.\n",
    "len(df)"
   ]
  },
  {
   "cell_type": "code",
   "execution_count": 6,
   "metadata": {},
   "outputs": [
    {
     "data": {
      "text/html": [
       "<div>\n",
       "<style scoped>\n",
       "    .dataframe tbody tr th:only-of-type {\n",
       "        vertical-align: middle;\n",
       "    }\n",
       "\n",
       "    .dataframe tbody tr th {\n",
       "        vertical-align: top;\n",
       "    }\n",
       "\n",
       "    .dataframe thead th {\n",
       "        text-align: right;\n",
       "    }\n",
       "</style>\n",
       "<table border=\"1\" class=\"dataframe\">\n",
       "  <thead>\n",
       "    <tr style=\"text-align: right;\">\n",
       "      <th></th>\n",
       "      <th>sa2_maincode_2016</th>\n",
       "      <th>median_age_persons</th>\n",
       "      <th>median_mortgage_repay_monthly</th>\n",
       "      <th>median_tot_prsnl_inc_weekly</th>\n",
       "      <th>median_rent_weekly</th>\n",
       "      <th>median_tot_fam_inc_weekly</th>\n",
       "      <th>average_num_psns_per_bedroom</th>\n",
       "      <th>median_tot_hhd_inc_weekly</th>\n",
       "      <th>average_household_size</th>\n",
       "    </tr>\n",
       "  </thead>\n",
       "  <tbody>\n",
       "    <tr>\n",
       "      <th>0</th>\n",
       "      <td>101021007</td>\n",
       "      <td>49</td>\n",
       "      <td>1582</td>\n",
       "      <td>594</td>\n",
       "      <td>250</td>\n",
       "      <td>1432</td>\n",
       "      <td>0.8</td>\n",
       "      <td>1083</td>\n",
       "      <td>2.3</td>\n",
       "    </tr>\n",
       "    <tr>\n",
       "      <th>1</th>\n",
       "      <td>101021008</td>\n",
       "      <td>37</td>\n",
       "      <td>1928</td>\n",
       "      <td>812</td>\n",
       "      <td>300</td>\n",
       "      <td>2007</td>\n",
       "      <td>0.8</td>\n",
       "      <td>1692</td>\n",
       "      <td>2.6</td>\n",
       "    </tr>\n",
       "    <tr>\n",
       "      <th>2</th>\n",
       "      <td>101021009</td>\n",
       "      <td>36</td>\n",
       "      <td>1733</td>\n",
       "      <td>837</td>\n",
       "      <td>280</td>\n",
       "      <td>1844</td>\n",
       "      <td>0.9</td>\n",
       "      <td>1400</td>\n",
       "      <td>2.1</td>\n",
       "    </tr>\n",
       "    <tr>\n",
       "      <th>3</th>\n",
       "      <td>101021010</td>\n",
       "      <td>35</td>\n",
       "      <td>1842</td>\n",
       "      <td>883</td>\n",
       "      <td>270</td>\n",
       "      <td>2001</td>\n",
       "      <td>0.9</td>\n",
       "      <td>1434</td>\n",
       "      <td>2.2</td>\n",
       "    </tr>\n",
       "    <tr>\n",
       "      <th>4</th>\n",
       "      <td>101021011</td>\n",
       "      <td>40</td>\n",
       "      <td>2405</td>\n",
       "      <td>1076</td>\n",
       "      <td>383</td>\n",
       "      <td>2672</td>\n",
       "      <td>0.8</td>\n",
       "      <td>2478</td>\n",
       "      <td>2.9</td>\n",
       "    </tr>\n",
       "  </tbody>\n",
       "</table>\n",
       "</div>"
      ],
      "text/plain": [
       "   sa2_maincode_2016  median_age_persons  median_mortgage_repay_monthly  \\\n",
       "0          101021007                  49                           1582   \n",
       "1          101021008                  37                           1928   \n",
       "2          101021009                  36                           1733   \n",
       "3          101021010                  35                           1842   \n",
       "4          101021011                  40                           2405   \n",
       "\n",
       "   median_tot_prsnl_inc_weekly  median_rent_weekly  median_tot_fam_inc_weekly  \\\n",
       "0                          594                 250                       1432   \n",
       "1                          812                 300                       2007   \n",
       "2                          837                 280                       1844   \n",
       "3                          883                 270                       2001   \n",
       "4                         1076                 383                       2672   \n",
       "\n",
       "   average_num_psns_per_bedroom  median_tot_hhd_inc_weekly  \\\n",
       "0                           0.8                       1083   \n",
       "1                           0.8                       1692   \n",
       "2                           0.9                       1400   \n",
       "3                           0.9                       1434   \n",
       "4                           0.8                       2478   \n",
       "\n",
       "   average_household_size  \n",
       "0                     2.3  \n",
       "1                     2.6  \n",
       "2                     2.1  \n",
       "3                     2.2  \n",
       "4                     2.9  "
      ]
     },
     "execution_count": 6,
     "metadata": {},
     "output_type": "execute_result"
    }
   ],
   "source": [
    "df.head()"
   ]
  },
  {
   "cell_type": "code",
   "execution_count": 7,
   "metadata": {},
   "outputs": [
    {
     "data": {
      "text/html": [
       "<div>\n",
       "<style scoped>\n",
       "    .dataframe tbody tr th:only-of-type {\n",
       "        vertical-align: middle;\n",
       "    }\n",
       "\n",
       "    .dataframe tbody tr th {\n",
       "        vertical-align: top;\n",
       "    }\n",
       "\n",
       "    .dataframe thead th {\n",
       "        text-align: right;\n",
       "    }\n",
       "</style>\n",
       "<table border=\"1\" class=\"dataframe\">\n",
       "  <thead>\n",
       "    <tr style=\"text-align: right;\">\n",
       "      <th></th>\n",
       "      <th>column_name</th>\n",
       "      <th>total_missing</th>\n",
       "    </tr>\n",
       "  </thead>\n",
       "  <tbody>\n",
       "    <tr>\n",
       "      <th>0</th>\n",
       "      <td>sa2_maincode_2016</td>\n",
       "      <td>0</td>\n",
       "    </tr>\n",
       "    <tr>\n",
       "      <th>0</th>\n",
       "      <td>median_age_persons</td>\n",
       "      <td>0</td>\n",
       "    </tr>\n",
       "    <tr>\n",
       "      <th>0</th>\n",
       "      <td>median_mortgage_repay_monthly</td>\n",
       "      <td>0</td>\n",
       "    </tr>\n",
       "    <tr>\n",
       "      <th>0</th>\n",
       "      <td>median_tot_prsnl_inc_weekly</td>\n",
       "      <td>0</td>\n",
       "    </tr>\n",
       "    <tr>\n",
       "      <th>0</th>\n",
       "      <td>median_rent_weekly</td>\n",
       "      <td>0</td>\n",
       "    </tr>\n",
       "    <tr>\n",
       "      <th>0</th>\n",
       "      <td>median_tot_fam_inc_weekly</td>\n",
       "      <td>0</td>\n",
       "    </tr>\n",
       "    <tr>\n",
       "      <th>0</th>\n",
       "      <td>average_num_psns_per_bedroom</td>\n",
       "      <td>0</td>\n",
       "    </tr>\n",
       "    <tr>\n",
       "      <th>0</th>\n",
       "      <td>median_tot_hhd_inc_weekly</td>\n",
       "      <td>0</td>\n",
       "    </tr>\n",
       "    <tr>\n",
       "      <th>0</th>\n",
       "      <td>average_household_size</td>\n",
       "      <td>0</td>\n",
       "    </tr>\n",
       "  </tbody>\n",
       "</table>\n",
       "</div>"
      ],
      "text/plain": [
       "                     column_name total_missing\n",
       "0              sa2_maincode_2016             0\n",
       "0             median_age_persons             0\n",
       "0  median_mortgage_repay_monthly             0\n",
       "0    median_tot_prsnl_inc_weekly             0\n",
       "0             median_rent_weekly             0\n",
       "0      median_tot_fam_inc_weekly             0\n",
       "0   average_num_psns_per_bedroom             0\n",
       "0      median_tot_hhd_inc_weekly             0\n",
       "0         average_household_size             0"
      ]
     },
     "execution_count": 7,
     "metadata": {},
     "output_type": "execute_result"
    }
   ],
   "source": [
    "df_columns = list(df)\n",
    "missing_df = missing_values(df, df_columns)\n",
    "missing_df"
   ]
  },
  {
   "cell_type": "code",
   "execution_count": 8,
   "metadata": {},
   "outputs": [],
   "source": [
    "# Write data to disk\n",
    "df.to_csv(output_folder + output_name, index = False)"
   ]
  },
  {
   "cell_type": "code",
   "execution_count": null,
   "metadata": {},
   "outputs": [],
   "source": []
  }
 ],
 "metadata": {
  "kernelspec": {
   "display_name": "Python 3",
   "language": "python",
   "name": "python3"
  },
  "language_info": {
   "codemirror_mode": {
    "name": "ipython",
    "version": 3
   },
   "file_extension": ".py",
   "mimetype": "text/x-python",
   "name": "python",
   "nbconvert_exporter": "python",
   "pygments_lexer": "ipython3",
   "version": "3.7.7"
  }
 },
 "nbformat": 4,
 "nbformat_minor": 4
}
