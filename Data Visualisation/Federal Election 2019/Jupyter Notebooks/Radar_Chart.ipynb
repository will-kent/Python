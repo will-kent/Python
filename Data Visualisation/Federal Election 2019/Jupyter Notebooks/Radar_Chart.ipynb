{
 "cells": [
  {
   "cell_type": "code",
   "execution_count": 63,
   "metadata": {},
   "outputs": [],
   "source": [
    "import pandas as pd\n",
    "import numpy as np\n",
    "import matplotlib.pyplot as plt\n",
    "from matplotlib.colors import LinearSegmentedColormap\n",
    "from math import pi"
   ]
  },
  {
   "cell_type": "code",
   "execution_count": 97,
   "metadata": {},
   "outputs": [],
   "source": [
    "def make_spider(df, row, title, color):\n",
    " \n",
    "    # number of variable\n",
    "    categories=list(df)[1:]\n",
    "    N = len(categories)\n",
    "\n",
    "    # What will be the angle of each axis in the plot? (we divide the plot / number of variable)\n",
    "    angles = [n / float(N) * 2 * pi for n in range(N)]\n",
    "    angles += angles[:1]\n",
    "\n",
    "    # Initialise the spider plot\n",
    "    ax = plt.subplot(2,2,row+1, polar=True, )\n",
    "\n",
    "    # If you want the first axis to be on top:\n",
    "    ax.set_theta_offset(pi / 2)\n",
    "    ax.set_theta_direction(-1)\n",
    "\n",
    "    # Draw one axe per variable + add labels labels yet\n",
    "    plt.xticks(angles[:-1], categories, color='grey', size=8)\n",
    "\n",
    "    # Draw ylabels\n",
    "    ax.set_rlabel_position(0)\n",
    "    plt.yticks([20,40,60,80,100], [\"20\",\"40\",\"60\",\"80\",\"100\"], color=\"grey\", size=7)\n",
    "    plt.ylim(0,80)\n",
    "\n",
    "    # Ind1\n",
    "    values=df.loc[row].drop(\"Preferred Party\").values.flatten().tolist()\n",
    "    values += values[:1]\n",
    "    ax.plot(angles, values, color=color, linewidth=2, linestyle='solid')\n",
    "    ax.fill(angles, values, color=color, alpha=0.2)\n",
    "\n",
    "    # Add a title\n",
    "    plt.title(title, size=11, color=color, y=1.1)\n",
    "    plt.tight_layout(pad = 3)"
   ]
  },
  {
   "cell_type": "code",
   "execution_count": 3,
   "metadata": {},
   "outputs": [],
   "source": [
    "#https://python-graph-gallery.com/392-use-faceting-for-radar-chart/\n",
    "vdf = pd.read_csv(\"..\\Data\\sa2_votes.csv\")"
   ]
  },
  {
   "cell_type": "code",
   "execution_count": 74,
   "metadata": {},
   "outputs": [],
   "source": [
    "# Get Census data for Selected Characteristics\n",
    "cdf1 = pd.read_csv(\"..\\Data\\census_selected_characteristics.csv\")\n",
    "cdf1[\"less_than_35_percent\"] = (cdf1[\"age_20_24_percent\"] + cdf1[\"age_25_34_percent\"] + cdf1[\"age_35_44_percent\"]) * 100\n",
    "cdf1[\"median_birthplace_percent\"] = cdf1[\"birthplace_australia_percent\"] * 100\n",
    "cdf1[\"median_multilingual_percent\"] = (1- cdf1[\"lang_eng_only_percent\"]) * 100\n",
    "cdf1 = cdf1[[\"sa2_maincode_2016\",\"median_birthplace_percent\",\"median_multilingual_percent\",\"less_than_35_percent\"]]"
   ]
  },
  {
   "cell_type": "code",
   "execution_count": 75,
   "metadata": {},
   "outputs": [
    {
     "data": {
      "text/html": [
       "<div>\n",
       "<style scoped>\n",
       "    .dataframe tbody tr th:only-of-type {\n",
       "        vertical-align: middle;\n",
       "    }\n",
       "\n",
       "    .dataframe tbody tr th {\n",
       "        vertical-align: top;\n",
       "    }\n",
       "\n",
       "    .dataframe thead th {\n",
       "        text-align: right;\n",
       "    }\n",
       "</style>\n",
       "<table border=\"1\" class=\"dataframe\">\n",
       "  <thead>\n",
       "    <tr style=\"text-align: right;\">\n",
       "      <th></th>\n",
       "      <th>Preferred Party</th>\n",
       "      <th>median_birthplace_percent</th>\n",
       "      <th>median_multilingual_percent</th>\n",
       "      <th>less_than_35_percent</th>\n",
       "    </tr>\n",
       "  </thead>\n",
       "  <tbody>\n",
       "    <tr>\n",
       "      <th>0</th>\n",
       "      <td>ALP</td>\n",
       "      <td>76.136364</td>\n",
       "      <td>14.772727</td>\n",
       "      <td>21.926653</td>\n",
       "    </tr>\n",
       "    <tr>\n",
       "      <th>1</th>\n",
       "      <td>ALP</td>\n",
       "      <td>77.046199</td>\n",
       "      <td>19.376743</td>\n",
       "      <td>33.139323</td>\n",
       "    </tr>\n",
       "    <tr>\n",
       "      <th>2</th>\n",
       "      <td>ALP</td>\n",
       "      <td>67.081719</td>\n",
       "      <td>28.804649</td>\n",
       "      <td>42.030991</td>\n",
       "    </tr>\n",
       "    <tr>\n",
       "      <th>3</th>\n",
       "      <td>ALP</td>\n",
       "      <td>68.763059</td>\n",
       "      <td>26.535729</td>\n",
       "      <td>41.140827</td>\n",
       "    </tr>\n",
       "    <tr>\n",
       "      <th>4</th>\n",
       "      <td>ALP</td>\n",
       "      <td>76.950313</td>\n",
       "      <td>15.236634</td>\n",
       "      <td>29.110114</td>\n",
       "    </tr>\n",
       "  </tbody>\n",
       "</table>\n",
       "</div>"
      ],
      "text/plain": [
       "  Preferred Party  median_birthplace_percent  median_multilingual_percent  \\\n",
       "0             ALP                  76.136364                    14.772727   \n",
       "1             ALP                  77.046199                    19.376743   \n",
       "2             ALP                  67.081719                    28.804649   \n",
       "3             ALP                  68.763059                    26.535729   \n",
       "4             ALP                  76.950313                    15.236634   \n",
       "\n",
       "   less_than_35_percent  \n",
       "0             21.926653  \n",
       "1             33.139323  \n",
       "2             42.030991  \n",
       "3             41.140827  \n",
       "4             29.110114  "
      ]
     },
     "execution_count": 75,
     "metadata": {},
     "output_type": "execute_result"
    }
   ],
   "source": [
    "df = pd.merge(vdf, cdf1, left_on = \"SA2_MAIN16\", right_on = \"sa2_maincode_2016\")\n",
    "df[\"Preferred Party\"] = np.where(df[\"liberal/national coalition votes\"] / df[\"totalvotes\"] > 0.5, \"Liberal\", \"ALP\")\n",
    "df = df[[\"Preferred Party\",\"median_birthplace_percent\",\"median_multilingual_percent\",\"less_than_35_percent\"]]\n",
    "df.head()"
   ]
  },
  {
   "cell_type": "code",
   "execution_count": 18,
   "metadata": {},
   "outputs": [],
   "source": [
    "religiondf = pd.read_csv(\"..\\Data\\census_religious_affimiliation.csv\")"
   ]
  },
  {
   "cell_type": "code",
   "execution_count": 76,
   "metadata": {},
   "outputs": [
    {
     "data": {
      "text/html": [
       "<div>\n",
       "<style scoped>\n",
       "    .dataframe tbody tr th:only-of-type {\n",
       "        vertical-align: middle;\n",
       "    }\n",
       "\n",
       "    .dataframe tbody tr th {\n",
       "        vertical-align: top;\n",
       "    }\n",
       "\n",
       "    .dataframe thead th {\n",
       "        text-align: right;\n",
       "    }\n",
       "</style>\n",
       "<table border=\"1\" class=\"dataframe\">\n",
       "  <thead>\n",
       "    <tr style=\"text-align: right;\">\n",
       "      <th></th>\n",
       "      <th>median_christian_pct</th>\n",
       "    </tr>\n",
       "    <tr>\n",
       "      <th>Preferred Party</th>\n",
       "      <th></th>\n",
       "    </tr>\n",
       "  </thead>\n",
       "  <tbody>\n",
       "    <tr>\n",
       "      <th>ALP</th>\n",
       "      <td>48.993559</td>\n",
       "    </tr>\n",
       "    <tr>\n",
       "      <th>Liberal</th>\n",
       "      <td>56.348083</td>\n",
       "    </tr>\n",
       "  </tbody>\n",
       "</table>\n",
       "</div>"
      ],
      "text/plain": [
       "                 median_christian_pct\n",
       "Preferred Party                      \n",
       "ALP                         48.993559\n",
       "Liberal                     56.348083"
      ]
     },
     "execution_count": 76,
     "metadata": {},
     "output_type": "execute_result"
    }
   ],
   "source": [
    "df2 = pd.merge(vdf, religiondf, left_on = \"SA2_MAIN16\", right_on = \"sa2_maincode_2016\")\n",
    "df2[\"Preferred Party\"] = np.where(df2[\"liberal/national coalition votes\"] / df2[\"totalvotes\"] > 0.5, \"Liberal\", \"ALP\")\n",
    "df2 = df2[[\"Preferred Party\", \"christianity_tot_percent\"]]\n",
    "df2[\"median_christian_pct\"] = df2[\"christianity_tot_percent\"] * 100\n",
    "df2 = df2[[\"Preferred Party\", \"median_christian_pct\"]]\n",
    "df2 = df2.groupby(\"Preferred Party\").median()\n",
    "df2.head()"
   ]
  },
  {
   "cell_type": "code",
   "execution_count": 77,
   "metadata": {},
   "outputs": [],
   "source": [
    "educationdf = pd.read_csv(\"..\\Data\\census_education_level.csv\")"
   ]
  },
  {
   "cell_type": "code",
   "execution_count": 78,
   "metadata": {},
   "outputs": [
    {
     "data": {
      "text/html": [
       "<div>\n",
       "<style scoped>\n",
       "    .dataframe tbody tr th:only-of-type {\n",
       "        vertical-align: middle;\n",
       "    }\n",
       "\n",
       "    .dataframe tbody tr th {\n",
       "        vertical-align: top;\n",
       "    }\n",
       "\n",
       "    .dataframe thead th {\n",
       "        text-align: right;\n",
       "    }\n",
       "</style>\n",
       "<table border=\"1\" class=\"dataframe\">\n",
       "  <thead>\n",
       "    <tr style=\"text-align: right;\">\n",
       "      <th></th>\n",
       "      <th>median_bach_post_pct</th>\n",
       "    </tr>\n",
       "    <tr>\n",
       "      <th>Preferred Party</th>\n",
       "      <th></th>\n",
       "    </tr>\n",
       "  </thead>\n",
       "  <tbody>\n",
       "    <tr>\n",
       "      <th>ALP</th>\n",
       "      <td>34.694144</td>\n",
       "    </tr>\n",
       "    <tr>\n",
       "      <th>Liberal</th>\n",
       "      <td>23.455492</td>\n",
       "    </tr>\n",
       "  </tbody>\n",
       "</table>\n",
       "</div>"
      ],
      "text/plain": [
       "                 median_bach_post_pct\n",
       "Preferred Party                      \n",
       "ALP                         34.694144\n",
       "Liberal                     23.455492"
      ]
     },
     "execution_count": 78,
     "metadata": {},
     "output_type": "execute_result"
    }
   ],
   "source": [
    "df3 = pd.merge(vdf, educationdf, left_on = \"SA2_MAIN16\", right_on = \"sa2_maincode_2016\")\n",
    "df3[\"Preferred Party\"] = np.where(df3[\"liberal/national coalition votes\"] / df3[\"totalvotes\"] > 0.5, \"Liberal\", \"ALP\")\n",
    "df3 = df3[[\"Preferred Party\", \"bach_post_grad_percent\"]]\n",
    "df3[\"median_bach_post_pct\"] = df3[\"bach_post_grad_percent\"] * 100\n",
    "df3 = df3[[\"Preferred Party\", \"median_bach_post_pct\"]]\n",
    "df3 = df3.groupby(\"Preferred Party\").median()\n",
    "df3.head()"
   ]
  },
  {
   "cell_type": "code",
   "execution_count": 94,
   "metadata": {},
   "outputs": [
    {
     "data": {
      "text/html": [
       "<div>\n",
       "<style scoped>\n",
       "    .dataframe tbody tr th:only-of-type {\n",
       "        vertical-align: middle;\n",
       "    }\n",
       "\n",
       "    .dataframe tbody tr th {\n",
       "        vertical-align: top;\n",
       "    }\n",
       "\n",
       "    .dataframe thead th {\n",
       "        text-align: right;\n",
       "    }\n",
       "</style>\n",
       "<table border=\"1\" class=\"dataframe\">\n",
       "  <thead>\n",
       "    <tr style=\"text-align: right;\">\n",
       "      <th></th>\n",
       "      <th>Preferred Party</th>\n",
       "      <th>median_birthplace_percent</th>\n",
       "      <th>median_multilingual_percent</th>\n",
       "      <th>less_than_35_percent</th>\n",
       "      <th>median_christian_pct</th>\n",
       "    </tr>\n",
       "  </thead>\n",
       "  <tbody>\n",
       "    <tr>\n",
       "      <th>0</th>\n",
       "      <td>ALP</td>\n",
       "      <td>66.282495</td>\n",
       "      <td>26.040906</td>\n",
       "      <td>35.463542</td>\n",
       "      <td>48.993559</td>\n",
       "    </tr>\n",
       "    <tr>\n",
       "      <th>1</th>\n",
       "      <td>Liberal</td>\n",
       "      <td>76.607960</td>\n",
       "      <td>13.617363</td>\n",
       "      <td>28.937691</td>\n",
       "      <td>56.348083</td>\n",
       "    </tr>\n",
       "  </tbody>\n",
       "</table>\n",
       "</div>"
      ],
      "text/plain": [
       "  Preferred Party  median_birthplace_percent  median_multilingual_percent  \\\n",
       "0             ALP                  66.282495                    26.040906   \n",
       "1         Liberal                  76.607960                    13.617363   \n",
       "\n",
       "   less_than_35_percent  median_christian_pct  \n",
       "0             35.463542             48.993559  \n",
       "1             28.937691             56.348083  "
      ]
     },
     "execution_count": 94,
     "metadata": {},
     "output_type": "execute_result"
    }
   ],
   "source": [
    "pdf = pd.merge(df, df2, left_on = \"Preferred Party\", right_on = \"Preferred Party\")\n",
    "pdf = pdf.groupby(\"Preferred Party\").median()\n",
    "pdf.reset_index(inplace = True)\n",
    "pdf.head()"
   ]
  },
  {
   "cell_type": "code",
   "execution_count": 95,
   "metadata": {},
   "outputs": [
    {
     "data": {
      "text/html": [
       "<div>\n",
       "<style scoped>\n",
       "    .dataframe tbody tr th:only-of-type {\n",
       "        vertical-align: middle;\n",
       "    }\n",
       "\n",
       "    .dataframe tbody tr th {\n",
       "        vertical-align: top;\n",
       "    }\n",
       "\n",
       "    .dataframe thead th {\n",
       "        text-align: right;\n",
       "    }\n",
       "</style>\n",
       "<table border=\"1\" class=\"dataframe\">\n",
       "  <thead>\n",
       "    <tr style=\"text-align: right;\">\n",
       "      <th></th>\n",
       "      <th>Preferred Party</th>\n",
       "      <th>Native Born</th>\n",
       "      <th>Multilingual</th>\n",
       "      <th>Age Below 45</th>\n",
       "      <th>Christian</th>\n",
       "      <th>Higher Education</th>\n",
       "    </tr>\n",
       "  </thead>\n",
       "  <tbody>\n",
       "    <tr>\n",
       "      <th>0</th>\n",
       "      <td>ALP</td>\n",
       "      <td>66.282495</td>\n",
       "      <td>26.040906</td>\n",
       "      <td>35.463542</td>\n",
       "      <td>48.993559</td>\n",
       "      <td>34.694144</td>\n",
       "    </tr>\n",
       "    <tr>\n",
       "      <th>1</th>\n",
       "      <td>Liberal</td>\n",
       "      <td>76.607960</td>\n",
       "      <td>13.617363</td>\n",
       "      <td>28.937691</td>\n",
       "      <td>56.348083</td>\n",
       "      <td>23.455492</td>\n",
       "    </tr>\n",
       "  </tbody>\n",
       "</table>\n",
       "</div>"
      ],
      "text/plain": [
       "  Preferred Party  Native Born  Multilingual  Age Below 45  Christian  \\\n",
       "0             ALP    66.282495     26.040906     35.463542  48.993559   \n",
       "1         Liberal    76.607960     13.617363     28.937691  56.348083   \n",
       "\n",
       "   Higher Education  \n",
       "0         34.694144  \n",
       "1         23.455492  "
      ]
     },
     "execution_count": 95,
     "metadata": {},
     "output_type": "execute_result"
    }
   ],
   "source": [
    "pdf = pd.merge(pdf, df3, left_on = \"Preferred Party\", right_on = \"Preferred Party\")\n",
    "pdf.columns = [\"Preferred Party\",\"Native Born\",\"Multilingual\",\"Age Below 45\", \"Christian\",\"Higher Education\"]\n",
    "#pdf = pdf.groupby(\"Preferred Party\").median()\n",
    "#pdf.reset_index(inplace = True)\n",
    "pdf.head()"
   ]
  },
  {
   "cell_type": "code",
   "execution_count": 98,
   "metadata": {},
   "outputs": [
    {
     "data": {
      "image/png": "[encoded data removed]",
      "text/plain": [
       "<Figure size 1000x1000 with 2 Axes>"
      ]
     },
     "metadata": {
      "needs_background": "dark"
     },
     "output_type": "display_data"
    }
   ],
   "source": [
    "# Initialize the figure\n",
    "my_dpi = 96\n",
    "plt.figure(figsize = (1000/my_dpi, 1000/my_dpi), dpi = my_dpi)\n",
    "      \n",
    "# Loop to plot\n",
    "for row in range(0, len(pdf.index)):\n",
    "    if pdf[\"Preferred Party\"][row] == \"ALP\":\n",
    "        party_colour = \"#DE3533\"\n",
    "    else:\n",
    "        party_colour = \"#0047AB\"\n",
    "        \n",
    "    make_spider(pdf, row=row, title=pdf[\"Preferred Party\"][row], color=party_colour)\n"
   ]
  },
  {
   "cell_type": "code",
   "execution_count": null,
   "metadata": {},
   "outputs": [],
   "source": []
  }
 ],
 "metadata": {
  "kernelspec": {
   "display_name": "Python 3",
   "language": "python",
   "name": "python3"
  },
  "language_info": {
   "codemirror_mode": {
    "name": "ipython",
    "version": 3
   },
   "file_extension": ".py",
   "mimetype": "text/x-python",
   "name": "python",
   "nbconvert_exporter": "python",
   "pygments_lexer": "ipython3",
   "version": "3.7.7"
  }
 },
 "nbformat": 4,
 "nbformat_minor": 4
}
