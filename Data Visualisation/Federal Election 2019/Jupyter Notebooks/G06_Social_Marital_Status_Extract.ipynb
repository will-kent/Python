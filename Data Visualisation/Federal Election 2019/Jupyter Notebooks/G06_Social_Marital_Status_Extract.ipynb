{
 "cells": [
  {
   "cell_type": "code",
   "execution_count": 1,
   "metadata": {},
   "outputs": [],
   "source": [
    "import pandas as pd"
   ]
  },
  {
   "cell_type": "code",
   "execution_count": 2,
   "metadata": {},
   "outputs": [],
   "source": [
    "# Location of data sources\n",
    "folder_path = \"../Data/2016_GCP_SA2/2016_GCP_SA2/\"\n",
    "file_name = \"2016Census_G06_AUS_SA2.csv\"\n",
    "output_folder = \"../Data/\"\n",
    "output_name = \"census_social_marital_status.csv\"\n",
    "key_columns = [\"SA2_MAINCODE_2016\"]\n",
    "file_columns = [\"P_Tot_Marrd_reg_marrge\",\"P_Tot_Married_de_facto\",\"P_Tot_Not_married\",\"P_Tot_Total\"]\n",
    "data_columns = key_columns + file_columns\n",
    "file_path = folder_path + file_name"
   ]
  },
  {
   "cell_type": "code",
   "execution_count": 3,
   "metadata": {},
   "outputs": [],
   "source": [
    "def load_csv_data(data_path, columns = [], skip_rows = 0):\n",
    "    data = pd.read_csv(data_path, skiprows = skip_rows)\n",
    "    if len(columns) > 0:\n",
    "        data = data.loc[:,columns]\n",
    "    lowercase = lambda x: str(x).lower()\n",
    "    data.rename(lowercase, axis='columns', inplace=True)\n",
    "    return data\n",
    "\n",
    "def missing_values(data, columns = []):\n",
    "    results = pd.DataFrame(columns = [\"column_name\", \"total_missing\"])\n",
    "    for column in columns:\n",
    "        col = column\n",
    "        missing_value = data[column].isnull().sum()\n",
    "        result = {\"column_name\": [col],\n",
    "                  \"total_missing\": [missing_value]}\n",
    "        result_df = pd.DataFrame(result, columns = [\"column_name\", \"total_missing\"])\n",
    "        results = pd.concat([results, result_df])\n",
    "    return results"
   ]
  },
  {
   "cell_type": "code",
   "execution_count": 4,
   "metadata": {},
   "outputs": [],
   "source": [
    "df = load_csv_data(file_path, data_columns)"
   ]
  },
  {
   "cell_type": "code",
   "execution_count": 5,
   "metadata": {},
   "outputs": [
    {
     "data": {
      "text/plain": [
       "2310"
      ]
     },
     "execution_count": 5,
     "metadata": {},
     "output_type": "execute_result"
    }
   ],
   "source": [
    "len(df)"
   ]
  },
  {
   "cell_type": "code",
   "execution_count": 6,
   "metadata": {},
   "outputs": [
    {
     "data": {
      "text/html": [
       "<div>\n",
       "<style scoped>\n",
       "    .dataframe tbody tr th:only-of-type {\n",
       "        vertical-align: middle;\n",
       "    }\n",
       "\n",
       "    .dataframe tbody tr th {\n",
       "        vertical-align: top;\n",
       "    }\n",
       "\n",
       "    .dataframe thead th {\n",
       "        text-align: right;\n",
       "    }\n",
       "</style>\n",
       "<table border=\"1\" class=\"dataframe\">\n",
       "  <thead>\n",
       "    <tr style=\"text-align: right;\">\n",
       "      <th></th>\n",
       "      <th>sa2_maincode_2016</th>\n",
       "      <th>p_tot_marrd_reg_marrge</th>\n",
       "      <th>p_tot_married_de_facto</th>\n",
       "      <th>p_tot_not_married</th>\n",
       "      <th>p_tot_total</th>\n",
       "    </tr>\n",
       "  </thead>\n",
       "  <tbody>\n",
       "    <tr>\n",
       "      <th>0</th>\n",
       "      <td>101021007</td>\n",
       "      <td>1301</td>\n",
       "      <td>376</td>\n",
       "      <td>942</td>\n",
       "      <td>2616</td>\n",
       "    </tr>\n",
       "    <tr>\n",
       "      <th>1</th>\n",
       "      <td>101021008</td>\n",
       "      <td>2665</td>\n",
       "      <td>719</td>\n",
       "      <td>2657</td>\n",
       "      <td>6044</td>\n",
       "    </tr>\n",
       "    <tr>\n",
       "      <th>2</th>\n",
       "      <td>101021009</td>\n",
       "      <td>3036</td>\n",
       "      <td>916</td>\n",
       "      <td>3883</td>\n",
       "      <td>7837</td>\n",
       "    </tr>\n",
       "    <tr>\n",
       "      <th>3</th>\n",
       "      <td>101021010</td>\n",
       "      <td>1490</td>\n",
       "      <td>458</td>\n",
       "      <td>1589</td>\n",
       "      <td>3548</td>\n",
       "    </tr>\n",
       "    <tr>\n",
       "      <th>4</th>\n",
       "      <td>101021011</td>\n",
       "      <td>6740</td>\n",
       "      <td>1465</td>\n",
       "      <td>3303</td>\n",
       "      <td>11505</td>\n",
       "    </tr>\n",
       "  </tbody>\n",
       "</table>\n",
       "</div>"
      ],
      "text/plain": [
       "   sa2_maincode_2016  p_tot_marrd_reg_marrge  p_tot_married_de_facto  \\\n",
       "0          101021007                    1301                     376   \n",
       "1          101021008                    2665                     719   \n",
       "2          101021009                    3036                     916   \n",
       "3          101021010                    1490                     458   \n",
       "4          101021011                    6740                    1465   \n",
       "\n",
       "   p_tot_not_married  p_tot_total  \n",
       "0                942         2616  \n",
       "1               2657         6044  \n",
       "2               3883         7837  \n",
       "3               1589         3548  \n",
       "4               3303        11505  "
      ]
     },
     "execution_count": 6,
     "metadata": {},
     "output_type": "execute_result"
    }
   ],
   "source": [
    "df.head()"
   ]
  },
  {
   "cell_type": "code",
   "execution_count": 7,
   "metadata": {},
   "outputs": [],
   "source": [
    "if \"registered_marriage_percent\" not in df:\n",
    "    df[\"registered_marriage_percent\"] = df[\"p_tot_marrd_reg_marrge\"]/df[\"p_tot_total\"] \n",
    "    \n",
    "if \"defacto_percent\" not in df:\n",
    "    df[\"defacto_percent\"] = df[\"p_tot_married_de_facto\"]/df[\"p_tot_total\"] \n",
    "    \n",
    "if \"not_married_percent\" not in df:\n",
    "    df[\"not_married_percent\"] = df[\"p_tot_not_married\"]/df[\"p_tot_total\"] "
   ]
  },
  {
   "cell_type": "code",
   "execution_count": 10,
   "metadata": {},
   "outputs": [
    {
     "data": {
      "text/html": [
       "<div>\n",
       "<style scoped>\n",
       "    .dataframe tbody tr th:only-of-type {\n",
       "        vertical-align: middle;\n",
       "    }\n",
       "\n",
       "    .dataframe tbody tr th {\n",
       "        vertical-align: top;\n",
       "    }\n",
       "\n",
       "    .dataframe thead th {\n",
       "        text-align: right;\n",
       "    }\n",
       "</style>\n",
       "<table border=\"1\" class=\"dataframe\">\n",
       "  <thead>\n",
       "    <tr style=\"text-align: right;\">\n",
       "      <th></th>\n",
       "      <th>column_name</th>\n",
       "      <th>total_missing</th>\n",
       "    </tr>\n",
       "  </thead>\n",
       "  <tbody>\n",
       "    <tr>\n",
       "      <th>0</th>\n",
       "      <td>sa2_maincode_2016</td>\n",
       "      <td>0</td>\n",
       "    </tr>\n",
       "    <tr>\n",
       "      <th>0</th>\n",
       "      <td>p_tot_marrd_reg_marrge</td>\n",
       "      <td>0</td>\n",
       "    </tr>\n",
       "    <tr>\n",
       "      <th>0</th>\n",
       "      <td>p_tot_married_de_facto</td>\n",
       "      <td>0</td>\n",
       "    </tr>\n",
       "    <tr>\n",
       "      <th>0</th>\n",
       "      <td>p_tot_not_married</td>\n",
       "      <td>0</td>\n",
       "    </tr>\n",
       "    <tr>\n",
       "      <th>0</th>\n",
       "      <td>p_tot_total</td>\n",
       "      <td>0</td>\n",
       "    </tr>\n",
       "    <tr>\n",
       "      <th>0</th>\n",
       "      <td>registered_marriage_percent</td>\n",
       "      <td>0</td>\n",
       "    </tr>\n",
       "    <tr>\n",
       "      <th>0</th>\n",
       "      <td>defacto_percent</td>\n",
       "      <td>0</td>\n",
       "    </tr>\n",
       "    <tr>\n",
       "      <th>0</th>\n",
       "      <td>not_married_percent</td>\n",
       "      <td>0</td>\n",
       "    </tr>\n",
       "  </tbody>\n",
       "</table>\n",
       "</div>"
      ],
      "text/plain": [
       "                   column_name total_missing\n",
       "0            sa2_maincode_2016             0\n",
       "0       p_tot_marrd_reg_marrge             0\n",
       "0       p_tot_married_de_facto             0\n",
       "0            p_tot_not_married             0\n",
       "0                  p_tot_total             0\n",
       "0  registered_marriage_percent             0\n",
       "0              defacto_percent             0\n",
       "0          not_married_percent             0"
      ]
     },
     "execution_count": 10,
     "metadata": {},
     "output_type": "execute_result"
    }
   ],
   "source": [
    "df_columns = list(df)\n",
    "missing_df = missing_values(df, df_columns)\n",
    "missing_df"
   ]
  },
  {
   "cell_type": "code",
   "execution_count": 9,
   "metadata": {},
   "outputs": [],
   "source": [
    "# Replace the NaN's created by calculation\n",
    "df.fillna(0, inplace = True)"
   ]
  },
  {
   "cell_type": "code",
   "execution_count": 11,
   "metadata": {},
   "outputs": [
    {
     "data": {
      "text/html": [
       "<div>\n",
       "<style scoped>\n",
       "    .dataframe tbody tr th:only-of-type {\n",
       "        vertical-align: middle;\n",
       "    }\n",
       "\n",
       "    .dataframe tbody tr th {\n",
       "        vertical-align: top;\n",
       "    }\n",
       "\n",
       "    .dataframe thead th {\n",
       "        text-align: right;\n",
       "    }\n",
       "</style>\n",
       "<table border=\"1\" class=\"dataframe\">\n",
       "  <thead>\n",
       "    <tr style=\"text-align: right;\">\n",
       "      <th></th>\n",
       "      <th>column_name</th>\n",
       "      <th>total_missing</th>\n",
       "    </tr>\n",
       "  </thead>\n",
       "  <tbody>\n",
       "    <tr>\n",
       "      <th>0</th>\n",
       "      <td>sa2_maincode_2016</td>\n",
       "      <td>0</td>\n",
       "    </tr>\n",
       "    <tr>\n",
       "      <th>0</th>\n",
       "      <td>p_tot_marrd_reg_marrge</td>\n",
       "      <td>0</td>\n",
       "    </tr>\n",
       "    <tr>\n",
       "      <th>0</th>\n",
       "      <td>p_tot_married_de_facto</td>\n",
       "      <td>0</td>\n",
       "    </tr>\n",
       "    <tr>\n",
       "      <th>0</th>\n",
       "      <td>p_tot_not_married</td>\n",
       "      <td>0</td>\n",
       "    </tr>\n",
       "    <tr>\n",
       "      <th>0</th>\n",
       "      <td>p_tot_total</td>\n",
       "      <td>0</td>\n",
       "    </tr>\n",
       "    <tr>\n",
       "      <th>0</th>\n",
       "      <td>registered_marriage_percent</td>\n",
       "      <td>0</td>\n",
       "    </tr>\n",
       "    <tr>\n",
       "      <th>0</th>\n",
       "      <td>defacto_percent</td>\n",
       "      <td>0</td>\n",
       "    </tr>\n",
       "    <tr>\n",
       "      <th>0</th>\n",
       "      <td>not_married_percent</td>\n",
       "      <td>0</td>\n",
       "    </tr>\n",
       "  </tbody>\n",
       "</table>\n",
       "</div>"
      ],
      "text/plain": [
       "                   column_name total_missing\n",
       "0            sa2_maincode_2016             0\n",
       "0       p_tot_marrd_reg_marrge             0\n",
       "0       p_tot_married_de_facto             0\n",
       "0            p_tot_not_married             0\n",
       "0                  p_tot_total             0\n",
       "0  registered_marriage_percent             0\n",
       "0              defacto_percent             0\n",
       "0          not_married_percent             0"
      ]
     },
     "execution_count": 11,
     "metadata": {},
     "output_type": "execute_result"
    }
   ],
   "source": [
    "df_columns = list(df)\n",
    "missing_df = missing_values(df, df_columns)\n",
    "missing_df"
   ]
  },
  {
   "cell_type": "code",
   "execution_count": 12,
   "metadata": {},
   "outputs": [],
   "source": [
    "# Write data to disk\n",
    "df.to_csv(output_folder + output_name, index = False)"
   ]
  },
  {
   "cell_type": "code",
   "execution_count": null,
   "metadata": {},
   "outputs": [],
   "source": []
  }
 ],
 "metadata": {
  "kernelspec": {
   "display_name": "Python 3",
   "language": "python",
   "name": "python3"
  },
  "language_info": {
   "codemirror_mode": {
    "name": "ipython",
    "version": 3
   },
   "file_extension": ".py",
   "mimetype": "text/x-python",
   "name": "python",
   "nbconvert_exporter": "python",
   "pygments_lexer": "ipython3",
   "version": "3.7.7"
  }
 },
 "nbformat": 4,
 "nbformat_minor": 4
}
