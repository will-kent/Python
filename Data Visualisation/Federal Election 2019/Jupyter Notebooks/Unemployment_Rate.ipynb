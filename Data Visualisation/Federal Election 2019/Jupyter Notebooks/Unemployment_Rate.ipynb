{
 "cells": [
  {
   "cell_type": "code",
   "execution_count": 1,
   "metadata": {},
   "outputs": [],
   "source": [
    "import pandas as pd\n",
    "import numpy as np\n",
    "import matplotlib.pyplot as plt"
   ]
  },
  {
   "cell_type": "code",
   "execution_count": 2,
   "metadata": {},
   "outputs": [],
   "source": [
    "vdf = pd.read_csv(\"..\\Data\\sa2_votes.csv\")"
   ]
  },
  {
   "cell_type": "code",
   "execution_count": 4,
   "metadata": {},
   "outputs": [],
   "source": [
    "# Get Census data for Selected Stats\n",
    "cdf = pd.read_csv(\"..\\Data\\sa2_unemployment_rate.csv\")"
   ]
  },
  {
   "cell_type": "code",
   "execution_count": 5,
   "metadata": {},
   "outputs": [],
   "source": [
    "df = pd.merge(vdf, cdf, left_on = \"SA2_MAIN16\", right_on = \"sa2_maincode_2016\")\n",
    "df[\"Preferred Party\"] = np.where(df[\"liberal/national coalition votes\"] / df[\"totalvotes\"] > 0.5, \"Liberal\", \"ALP\")"
   ]
  },
  {
   "cell_type": "code",
   "execution_count": 6,
   "metadata": {},
   "outputs": [
    {
     "data": {
      "text/html": [
       "<div>\n",
       "<style scoped>\n",
       "    .dataframe tbody tr th:only-of-type {\n",
       "        vertical-align: middle;\n",
       "    }\n",
       "\n",
       "    .dataframe tbody tr th {\n",
       "        vertical-align: top;\n",
       "    }\n",
       "\n",
       "    .dataframe thead th {\n",
       "        text-align: right;\n",
       "    }\n",
       "</style>\n",
       "<table border=\"1\" class=\"dataframe\">\n",
       "  <thead>\n",
       "    <tr style=\"text-align: right;\">\n",
       "      <th></th>\n",
       "      <th>Unnamed: 0</th>\n",
       "      <th>SA2_MAIN16</th>\n",
       "      <th>STE_NAME16</th>\n",
       "      <th>GCC_CODE16</th>\n",
       "      <th>liberal/national coalition votes</th>\n",
       "      <th>australian labor party votes</th>\n",
       "      <th>totalvotes</th>\n",
       "      <th>sa2_maincode_2016</th>\n",
       "      <th>unemployment_mar_19</th>\n",
       "      <th>unemployment_jun_19</th>\n",
       "      <th>Preferred Party</th>\n",
       "    </tr>\n",
       "  </thead>\n",
       "  <tbody>\n",
       "    <tr>\n",
       "      <th>0</th>\n",
       "      <td>0</td>\n",
       "      <td>101021007</td>\n",
       "      <td>New South Wales</td>\n",
       "      <td>1RNSW</td>\n",
       "      <td>655</td>\n",
       "      <td>850</td>\n",
       "      <td>1505</td>\n",
       "      <td>101021007</td>\n",
       "      <td>3.6</td>\n",
       "      <td>3.3</td>\n",
       "      <td>ALP</td>\n",
       "    </tr>\n",
       "    <tr>\n",
       "      <th>1</th>\n",
       "      <td>1</td>\n",
       "      <td>101021008</td>\n",
       "      <td>New South Wales</td>\n",
       "      <td>1RNSW</td>\n",
       "      <td>600</td>\n",
       "      <td>937</td>\n",
       "      <td>1537</td>\n",
       "      <td>101021008</td>\n",
       "      <td>4.3</td>\n",
       "      <td>3.9</td>\n",
       "      <td>ALP</td>\n",
       "    </tr>\n",
       "    <tr>\n",
       "      <th>2</th>\n",
       "      <td>2</td>\n",
       "      <td>101021009</td>\n",
       "      <td>New South Wales</td>\n",
       "      <td>1RNSW</td>\n",
       "      <td>7954</td>\n",
       "      <td>9937</td>\n",
       "      <td>17891</td>\n",
       "      <td>101021009</td>\n",
       "      <td>3.7</td>\n",
       "      <td>3.2</td>\n",
       "      <td>ALP</td>\n",
       "    </tr>\n",
       "    <tr>\n",
       "      <th>3</th>\n",
       "      <td>3</td>\n",
       "      <td>101021010</td>\n",
       "      <td>New South Wales</td>\n",
       "      <td>1RNSW</td>\n",
       "      <td>756</td>\n",
       "      <td>1040</td>\n",
       "      <td>1796</td>\n",
       "      <td>101021010</td>\n",
       "      <td>3.0</td>\n",
       "      <td>2.6</td>\n",
       "      <td>ALP</td>\n",
       "    </tr>\n",
       "    <tr>\n",
       "      <th>4</th>\n",
       "      <td>4</td>\n",
       "      <td>101021011</td>\n",
       "      <td>New South Wales</td>\n",
       "      <td>1RNSW</td>\n",
       "      <td>3023</td>\n",
       "      <td>3052</td>\n",
       "      <td>6075</td>\n",
       "      <td>101021011</td>\n",
       "      <td>0.9</td>\n",
       "      <td>0.8</td>\n",
       "      <td>ALP</td>\n",
       "    </tr>\n",
       "  </tbody>\n",
       "</table>\n",
       "</div>"
      ],
      "text/plain": [
       "   Unnamed: 0  SA2_MAIN16       STE_NAME16 GCC_CODE16  \\\n",
       "0           0   101021007  New South Wales      1RNSW   \n",
       "1           1   101021008  New South Wales      1RNSW   \n",
       "2           2   101021009  New South Wales      1RNSW   \n",
       "3           3   101021010  New South Wales      1RNSW   \n",
       "4           4   101021011  New South Wales      1RNSW   \n",
       "\n",
       "   liberal/national coalition votes  australian labor party votes  totalvotes  \\\n",
       "0                               655                           850        1505   \n",
       "1                               600                           937        1537   \n",
       "2                              7954                          9937       17891   \n",
       "3                               756                          1040        1796   \n",
       "4                              3023                          3052        6075   \n",
       "\n",
       "   sa2_maincode_2016  unemployment_mar_19  unemployment_jun_19 Preferred Party  \n",
       "0          101021007                  3.6                  3.3             ALP  \n",
       "1          101021008                  4.3                  3.9             ALP  \n",
       "2          101021009                  3.7                  3.2             ALP  \n",
       "3          101021010                  3.0                  2.6             ALP  \n",
       "4          101021011                  0.9                  0.8             ALP  "
      ]
     },
     "execution_count": 6,
     "metadata": {},
     "output_type": "execute_result"
    }
   ],
   "source": [
    "df.head()"
   ]
  },
  {
   "cell_type": "code",
   "execution_count": 7,
   "metadata": {},
   "outputs": [],
   "source": [
    "pdf = df[[\"SA2_MAIN16\", \"STE_NAME16\", \"Preferred Party\", \"unemployment_mar_19\", \"unemployment_jun_19\"]]\n",
    "pdf = pdf.loc[pdf[\"STE_NAME16\"] != \"Other Territories\",]\n",
    "pdf = pdf.sort_values(by = [\"STE_NAME16\", \"Preferred Party\"], ascending = True)"
   ]
  },
  {
   "cell_type": "code",
   "execution_count": 9,
   "metadata": {},
   "outputs": [
    {
     "data": {
      "text/plain": [
       "array([[<matplotlib.axes._subplots.AxesSubplot object at 0x000002BD4B4BE548>,\n",
       "        <matplotlib.axes._subplots.AxesSubplot object at 0x000002BD4B54C848>]],\n",
       "      dtype=object)"
      ]
     },
     "execution_count": 9,
     "metadata": {},
     "output_type": "execute_result"
    },
    {
     "data": {
      "image/png": "[encoded data removed]",
      "text/plain": [
       "<Figure size 432x288 with 2 Axes>"
      ]
     },
     "metadata": {
      "needs_background": "light"
     },
     "output_type": "display_data"
    }
   ],
   "source": [
    "df.hist(column = [\"unemployment_mar_19\",\"unemployment_jun_19\"], bins = 20)"
   ]
  },
  {
   "cell_type": "code",
   "execution_count": 10,
   "metadata": {},
   "outputs": [
    {
     "data": {
      "text/html": [
       "<div>\n",
       "<style scoped>\n",
       "    .dataframe tbody tr th:only-of-type {\n",
       "        vertical-align: middle;\n",
       "    }\n",
       "\n",
       "    .dataframe tbody tr th {\n",
       "        vertical-align: top;\n",
       "    }\n",
       "\n",
       "    .dataframe thead th {\n",
       "        text-align: right;\n",
       "    }\n",
       "</style>\n",
       "<table border=\"1\" class=\"dataframe\">\n",
       "  <thead>\n",
       "    <tr style=\"text-align: right;\">\n",
       "      <th></th>\n",
       "      <th>Preferred Party</th>\n",
       "      <th>unemployment_rate_bins</th>\n",
       "      <th>Count</th>\n",
       "    </tr>\n",
       "  </thead>\n",
       "  <tbody>\n",
       "    <tr>\n",
       "      <th>0</th>\n",
       "      <td>ALP</td>\n",
       "      <td>Very Low</td>\n",
       "      <td>59</td>\n",
       "    </tr>\n",
       "    <tr>\n",
       "      <th>1</th>\n",
       "      <td>ALP</td>\n",
       "      <td>Low</td>\n",
       "      <td>244</td>\n",
       "    </tr>\n",
       "    <tr>\n",
       "      <th>2</th>\n",
       "      <td>ALP</td>\n",
       "      <td>Average</td>\n",
       "      <td>190</td>\n",
       "    </tr>\n",
       "    <tr>\n",
       "      <th>3</th>\n",
       "      <td>ALP</td>\n",
       "      <td>High</td>\n",
       "      <td>144</td>\n",
       "    </tr>\n",
       "    <tr>\n",
       "      <th>4</th>\n",
       "      <td>ALP</td>\n",
       "      <td>Very High</td>\n",
       "      <td>198</td>\n",
       "    </tr>\n",
       "  </tbody>\n",
       "</table>\n",
       "</div>"
      ],
      "text/plain": [
       "  Preferred Party unemployment_rate_bins  Count\n",
       "0             ALP               Very Low     59\n",
       "1             ALP                    Low    244\n",
       "2             ALP                Average    190\n",
       "3             ALP                   High    144\n",
       "4             ALP              Very High    198"
      ]
     },
     "execution_count": 10,
     "metadata": {},
     "output_type": "execute_result"
    }
   ],
   "source": [
    "cut_labels = [\"Very Low\",\"Low\",\"Average\",\"High\",\"Very High\"]\n",
    "cut_bins = [0, 2, 4, 6, 8, 100]\n",
    "pdf[\"unemployment_rate_bins\"] = pd.cut(pdf[\"unemployment_jun_19\"],\n",
    "                               bins = cut_bins,\n",
    "                               labels = cut_labels)\n",
    "pdf = pdf.groupby([\"Preferred Party\", \"unemployment_rate_bins\"]).size().reset_index(name = \"Count\")\n",
    "pdf.head()"
   ]
  },
  {
   "cell_type": "code",
   "execution_count": 12,
   "metadata": {},
   "outputs": [
    {
     "data": {
      "text/plain": [
       "<matplotlib.legend.Legend at 0x2bd4b744108>"
      ]
     },
     "execution_count": 12,
     "metadata": {},
     "output_type": "execute_result"
    },
    {
     "data": {
      "image/png": "[encoded data removed]",
      "text/plain": [
       "<Figure size 720x432 with 1 Axes>"
      ]
     },
     "metadata": {
      "needs_background": "light"
     },
     "output_type": "display_data"
    }
   ],
   "source": [
    "fig, axes = plt.subplots(nrows = 1, ncols = 1, figsize = (10,6))\n",
    "bar_height = 0.85\n",
    "text_colour = \"white\"\n",
    "lib_colour = \"#aeaeae\"\n",
    "alp_colour = \"#DE3533\"\n",
    "\n",
    "# Set plot values\n",
    "parties = pdf.loc[:,\"Preferred Party\"].unique()\n",
    "unemployment_rate_bins = (pdf.loc[:,\"unemployment_rate_bins\"].unique())\n",
    "\n",
    "for unemployment_rate_bin in unemployment_rate_bins:\n",
    "    # Find the position of the state in the list\n",
    "    position = [i for i,x in enumerate(unemployment_rate_bins) if x == unemployment_rate_bin][0]\n",
    "    \n",
    "    # Calculate Lib/ALP TPP Percent\n",
    "    total = sum(pdf.loc[pdf[\"unemployment_rate_bins\"] == unemployment_rate_bin, \"Count\"])\n",
    "    lib_pct = (pdf.loc[(pdf[\"unemployment_rate_bins\"] == unemployment_rate_bin) & (pdf[\"Preferred Party\"] == \"Liberal\"), \"Count\"] / total) * 100\n",
    "    alp_pct = (pdf.loc[(pdf[\"unemployment_rate_bins\"] == unemployment_rate_bin) & (pdf[\"Preferred Party\"] == \"ALP\"), \"Count\"] / total) * 100\n",
    "    \n",
    "    # Create Horizontal Bar Chart\n",
    "    axes.barh(unemployment_rate_bin, lib_pct, color = lib_colour, edgecolor = \"white\", height = bar_height)\n",
    "    axes.barh(unemployment_rate_bin, alp_pct, left = lib_pct, color = alp_colour, edgecolor = \"white\", height = bar_height)\n",
    "    \n",
    "    # Add text to bars\n",
    "    axes.text(1, position, s = str(round(lib_pct.values[0],1)) + \"%\", color = text_colour, va = \"center\", fontsize = 14)\n",
    "    if alp_pct.values[0] > 0.0:\n",
    "        axes.text(90, position, s = str(round(alp_pct.values[0],1)) + \"%\", color = text_colour, va = \"center\", fontsize = 14)\n",
    "    \n",
    "# Set title\n",
    "axes.set_title(\"Percentage of areas by two-party preferred by proportion of population unemployed\"\n",
    "               ,fontsize = 14\n",
    "               ,ma = \"left\"\n",
    "               ,ha = \"right\"\n",
    "               ,position= (0.95,1))\n",
    "fig.suptitle(\"Higher Unemployment Leads to Labor\"\n",
    "             ,fontsize = 18\n",
    "             ,ma = \"left\"\n",
    "             ,ha = \"right\"\n",
    "             ,position= (0.431,0.97))\n",
    "\n",
    "# Remove tick marks\n",
    "axes.tick_params(axis = \"both\", length = 0, labelsize = 14)\n",
    "axes.get_xaxis().set_visible(False)\n",
    "\n",
    " # Remove spines\n",
    "axes.spines[\"right\"].set_position(('data', 100))\n",
    "axes.spines[\"top\"].set_visible(False)\n",
    "axes.spines[\"bottom\"].set_visible(False)\n",
    "axes.spines[\"left\"].set_visible(False)\n",
    "axes.spines[\"right\"].set_visible(False)\n",
    "\n",
    "box = axes.get_position()\n",
    "axes.set_position([box.x0, box.y0, box.width * 1, box.height])\n",
    "axes.legend((\"Liberal\",\"ALP\"),fontsize = 14, frameon = False, bbox_to_anchor = (1, 1))"
   ]
  },
  {
   "cell_type": "code",
   "execution_count": null,
   "metadata": {},
   "outputs": [],
   "source": []
  }
 ],
 "metadata": {
  "kernelspec": {
   "display_name": "Python 3",
   "language": "python",
   "name": "python3"
  },
  "language_info": {
   "codemirror_mode": {
    "name": "ipython",
    "version": 3
   },
   "file_extension": ".py",
   "mimetype": "text/x-python",
   "name": "python",
   "nbconvert_exporter": "python",
   "pygments_lexer": "ipython3",
   "version": "3.7.7"
  }
 },
 "nbformat": 4,
 "nbformat_minor": 4
}
