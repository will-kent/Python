{
 "cells": [
  {
   "cell_type": "code",
   "execution_count": 1,
   "metadata": {},
   "outputs": [],
   "source": [
    "import pandas as pd\n",
    "import numpy as np\n",
    "import matplotlib.pyplot as plt"
   ]
  },
  {
   "cell_type": "code",
   "execution_count": 2,
   "metadata": {},
   "outputs": [],
   "source": [
    "vdf = pd.read_csv(\"..\\Data\\sa2_votes.csv\")"
   ]
  },
  {
   "cell_type": "code",
   "execution_count": 3,
   "metadata": {},
   "outputs": [],
   "source": [
    "# Get Census data for Selected Stats\n",
    "cdf = pd.read_csv(\"..\\Data\\census_selected_characteristics.csv\")"
   ]
  },
  {
   "cell_type": "code",
   "execution_count": 4,
   "metadata": {},
   "outputs": [],
   "source": [
    "df = pd.merge(vdf, cdf, left_on = \"SA2_MAIN16\", right_on = \"sa2_maincode_2016\")\n",
    "df[\"Preferred Party\"] = np.where(df[\"liberal/national coalition votes\"] / df[\"totalvotes\"] > 0.5, \"Liberal\", \"ALP\")"
   ]
  },
  {
   "cell_type": "code",
   "execution_count": 5,
   "metadata": {},
   "outputs": [
    {
     "data": {
      "text/html": [
       "<div>\n",
       "<style scoped>\n",
       "    .dataframe tbody tr th:only-of-type {\n",
       "        vertical-align: middle;\n",
       "    }\n",
       "\n",
       "    .dataframe tbody tr th {\n",
       "        vertical-align: top;\n",
       "    }\n",
       "\n",
       "    .dataframe thead th {\n",
       "        text-align: right;\n",
       "    }\n",
       "</style>\n",
       "<table border=\"1\" class=\"dataframe\">\n",
       "  <thead>\n",
       "    <tr style=\"text-align: right;\">\n",
       "      <th></th>\n",
       "      <th>Unnamed: 0</th>\n",
       "      <th>SA2_MAIN16</th>\n",
       "      <th>STE_NAME16</th>\n",
       "      <th>GCC_CODE16</th>\n",
       "      <th>liberal/national coalition votes</th>\n",
       "      <th>australian labor party votes</th>\n",
       "      <th>totalvotes</th>\n",
       "      <th>sa2_maincode_2016</th>\n",
       "      <th>tot_p_p</th>\n",
       "      <th>age_20_24_yr_p</th>\n",
       "      <th>...</th>\n",
       "      <th>age_45_54_percent</th>\n",
       "      <th>age_55_64_percent</th>\n",
       "      <th>age_65_74_percent</th>\n",
       "      <th>age_75_84_percent</th>\n",
       "      <th>age_85ov_percent</th>\n",
       "      <th>indigenous_percent</th>\n",
       "      <th>birthplace_australia_percent</th>\n",
       "      <th>lang_eng_only_percent</th>\n",
       "      <th>high_yr_12_comp_percent</th>\n",
       "      <th>Preferred Party</th>\n",
       "    </tr>\n",
       "  </thead>\n",
       "  <tbody>\n",
       "    <tr>\n",
       "      <th>0</th>\n",
       "      <td>0</td>\n",
       "      <td>101021007</td>\n",
       "      <td>New South Wales</td>\n",
       "      <td>1RNSW</td>\n",
       "      <td>655</td>\n",
       "      <td>850</td>\n",
       "      <td>1505</td>\n",
       "      <td>101021007</td>\n",
       "      <td>3872</td>\n",
       "      <td>110</td>\n",
       "      <td>...</td>\n",
       "      <td>0.149019</td>\n",
       "      <td>0.179752</td>\n",
       "      <td>0.152893</td>\n",
       "      <td>0.062758</td>\n",
       "      <td>0.019886</td>\n",
       "      <td>0.019370</td>\n",
       "      <td>0.761364</td>\n",
       "      <td>0.852273</td>\n",
       "      <td>0.362087</td>\n",
       "      <td>ALP</td>\n",
       "    </tr>\n",
       "    <tr>\n",
       "      <th>1</th>\n",
       "      <td>1</td>\n",
       "      <td>101021008</td>\n",
       "      <td>New South Wales</td>\n",
       "      <td>1RNSW</td>\n",
       "      <td>600</td>\n",
       "      <td>937</td>\n",
       "      <td>1537</td>\n",
       "      <td>101021008</td>\n",
       "      <td>8247</td>\n",
       "      <td>534</td>\n",
       "      <td>...</td>\n",
       "      <td>0.145022</td>\n",
       "      <td>0.127319</td>\n",
       "      <td>0.080514</td>\n",
       "      <td>0.037953</td>\n",
       "      <td>0.010064</td>\n",
       "      <td>0.061356</td>\n",
       "      <td>0.770462</td>\n",
       "      <td>0.806233</td>\n",
       "      <td>0.377107</td>\n",
       "      <td>ALP</td>\n",
       "    </tr>\n",
       "    <tr>\n",
       "      <th>2</th>\n",
       "      <td>2</td>\n",
       "      <td>101021009</td>\n",
       "      <td>New South Wales</td>\n",
       "      <td>1RNSW</td>\n",
       "      <td>7954</td>\n",
       "      <td>9937</td>\n",
       "      <td>17891</td>\n",
       "      <td>101021009</td>\n",
       "      <td>10842</td>\n",
       "      <td>762</td>\n",
       "      <td>...</td>\n",
       "      <td>0.127836</td>\n",
       "      <td>0.103948</td>\n",
       "      <td>0.075540</td>\n",
       "      <td>0.048423</td>\n",
       "      <td>0.028961</td>\n",
       "      <td>0.029515</td>\n",
       "      <td>0.670817</td>\n",
       "      <td>0.711954</td>\n",
       "      <td>0.441616</td>\n",
       "      <td>ALP</td>\n",
       "    </tr>\n",
       "    <tr>\n",
       "      <th>3</th>\n",
       "      <td>3</td>\n",
       "      <td>101021010</td>\n",
       "      <td>New South Wales</td>\n",
       "      <td>1RNSW</td>\n",
       "      <td>756</td>\n",
       "      <td>1040</td>\n",
       "      <td>1796</td>\n",
       "      <td>101021010</td>\n",
       "      <td>4786</td>\n",
       "      <td>359</td>\n",
       "      <td>...</td>\n",
       "      <td>0.146678</td>\n",
       "      <td>0.118888</td>\n",
       "      <td>0.065190</td>\n",
       "      <td>0.033431</td>\n",
       "      <td>0.010656</td>\n",
       "      <td>0.036774</td>\n",
       "      <td>0.687631</td>\n",
       "      <td>0.734643</td>\n",
       "      <td>0.488508</td>\n",
       "      <td>ALP</td>\n",
       "    </tr>\n",
       "    <tr>\n",
       "      <th>4</th>\n",
       "      <td>4</td>\n",
       "      <td>101021011</td>\n",
       "      <td>New South Wales</td>\n",
       "      <td>1RNSW</td>\n",
       "      <td>3023</td>\n",
       "      <td>3052</td>\n",
       "      <td>6075</td>\n",
       "      <td>101021011</td>\n",
       "      <td>16946</td>\n",
       "      <td>795</td>\n",
       "      <td>...</td>\n",
       "      <td>0.173138</td>\n",
       "      <td>0.143220</td>\n",
       "      <td>0.084740</td>\n",
       "      <td>0.024076</td>\n",
       "      <td>0.005075</td>\n",
       "      <td>0.019828</td>\n",
       "      <td>0.769503</td>\n",
       "      <td>0.847634</td>\n",
       "      <td>0.450372</td>\n",
       "      <td>ALP</td>\n",
       "    </tr>\n",
       "  </tbody>\n",
       "</table>\n",
       "<p>5 rows × 34 columns</p>\n",
       "</div>"
      ],
      "text/plain": [
       "   Unnamed: 0  SA2_MAIN16       STE_NAME16 GCC_CODE16  \\\n",
       "0           0   101021007  New South Wales      1RNSW   \n",
       "1           1   101021008  New South Wales      1RNSW   \n",
       "2           2   101021009  New South Wales      1RNSW   \n",
       "3           3   101021010  New South Wales      1RNSW   \n",
       "4           4   101021011  New South Wales      1RNSW   \n",
       "\n",
       "   liberal/national coalition votes  australian labor party votes  totalvotes  \\\n",
       "0                               655                           850        1505   \n",
       "1                               600                           937        1537   \n",
       "2                              7954                          9937       17891   \n",
       "3                               756                          1040        1796   \n",
       "4                              3023                          3052        6075   \n",
       "\n",
       "   sa2_maincode_2016  tot_p_p  age_20_24_yr_p  ...  age_45_54_percent  \\\n",
       "0          101021007     3872             110  ...           0.149019   \n",
       "1          101021008     8247             534  ...           0.145022   \n",
       "2          101021009    10842             762  ...           0.127836   \n",
       "3          101021010     4786             359  ...           0.146678   \n",
       "4          101021011    16946             795  ...           0.173138   \n",
       "\n",
       "   age_55_64_percent  age_65_74_percent  age_75_84_percent  age_85ov_percent  \\\n",
       "0           0.179752           0.152893           0.062758          0.019886   \n",
       "1           0.127319           0.080514           0.037953          0.010064   \n",
       "2           0.103948           0.075540           0.048423          0.028961   \n",
       "3           0.118888           0.065190           0.033431          0.010656   \n",
       "4           0.143220           0.084740           0.024076          0.005075   \n",
       "\n",
       "   indigenous_percent  birthplace_australia_percent  lang_eng_only_percent  \\\n",
       "0            0.019370                      0.761364               0.852273   \n",
       "1            0.061356                      0.770462               0.806233   \n",
       "2            0.029515                      0.670817               0.711954   \n",
       "3            0.036774                      0.687631               0.734643   \n",
       "4            0.019828                      0.769503               0.847634   \n",
       "\n",
       "   high_yr_12_comp_percent  Preferred Party  \n",
       "0                 0.362087              ALP  \n",
       "1                 0.377107              ALP  \n",
       "2                 0.441616              ALP  \n",
       "3                 0.488508              ALP  \n",
       "4                 0.450372              ALP  \n",
       "\n",
       "[5 rows x 34 columns]"
      ]
     },
     "execution_count": 5,
     "metadata": {},
     "output_type": "execute_result"
    }
   ],
   "source": [
    "df.head()"
   ]
  },
  {
   "cell_type": "code",
   "execution_count": 18,
   "metadata": {},
   "outputs": [],
   "source": [
    "pdf = df[[\"SA2_MAIN16\", \"STE_NAME16\", \"Preferred Party\", \"birthplace_australia_percent\", \"lang_eng_only_percent\"]]\n",
    "pdf = pdf.loc[pdf[\"STE_NAME16\"] != \"Other Territories\",]\n",
    "pdf = pdf.sort_values(by = [\"STE_NAME16\", \"Preferred Party\"], ascending = True)"
   ]
  },
  {
   "cell_type": "code",
   "execution_count": 15,
   "metadata": {},
   "outputs": [
    {
     "data": {
      "text/plain": [
       "array([[<matplotlib.axes._subplots.AxesSubplot object at 0x00000156CA9A9A08>]],\n",
       "      dtype=object)"
      ]
     },
     "execution_count": 15,
     "metadata": {},
     "output_type": "execute_result"
    },
    {
     "data": {
      "image/png": "[encoded data removed]",
      "text/plain": [
       "<Figure size 432x288 with 1 Axes>"
      ]
     },
     "metadata": {
      "needs_background": "light"
     },
     "output_type": "display_data"
    }
   ],
   "source": [
    "df.hist(column = [\"lang_eng_only_percent\"], bins = 20)"
   ]
  },
  {
   "cell_type": "code",
   "execution_count": 8,
   "metadata": {},
   "outputs": [
    {
     "data": {
      "text/html": [
       "<div>\n",
       "<style scoped>\n",
       "    .dataframe tbody tr th:only-of-type {\n",
       "        vertical-align: middle;\n",
       "    }\n",
       "\n",
       "    .dataframe tbody tr th {\n",
       "        vertical-align: top;\n",
       "    }\n",
       "\n",
       "    .dataframe thead th {\n",
       "        text-align: right;\n",
       "    }\n",
       "</style>\n",
       "<table border=\"1\" class=\"dataframe\">\n",
       "  <thead>\n",
       "    <tr style=\"text-align: right;\">\n",
       "      <th></th>\n",
       "      <th>Preferred Party</th>\n",
       "      <th>birthplace_bins</th>\n",
       "      <th>Count</th>\n",
       "    </tr>\n",
       "  </thead>\n",
       "  <tbody>\n",
       "    <tr>\n",
       "      <th>0</th>\n",
       "      <td>ALP</td>\n",
       "      <td>Very Low</td>\n",
       "      <td>58</td>\n",
       "    </tr>\n",
       "    <tr>\n",
       "      <th>1</th>\n",
       "      <td>ALP</td>\n",
       "      <td>Low</td>\n",
       "      <td>258</td>\n",
       "    </tr>\n",
       "    <tr>\n",
       "      <th>2</th>\n",
       "      <td>ALP</td>\n",
       "      <td>Average</td>\n",
       "      <td>217</td>\n",
       "    </tr>\n",
       "    <tr>\n",
       "      <th>3</th>\n",
       "      <td>ALP</td>\n",
       "      <td>High</td>\n",
       "      <td>244</td>\n",
       "    </tr>\n",
       "    <tr>\n",
       "      <th>4</th>\n",
       "      <td>ALP</td>\n",
       "      <td>Very High</td>\n",
       "      <td>146</td>\n",
       "    </tr>\n",
       "  </tbody>\n",
       "</table>\n",
       "</div>"
      ],
      "text/plain": [
       "  Preferred Party birthplace_bins  Count\n",
       "0             ALP        Very Low     58\n",
       "1             ALP             Low    258\n",
       "2             ALP         Average    217\n",
       "3             ALP            High    244\n",
       "4             ALP       Very High    146"
      ]
     },
     "execution_count": 8,
     "metadata": {},
     "output_type": "execute_result"
    }
   ],
   "source": [
    "cut_labels = [\"Very Low\",\"Low\",\"Average\",\"High\",\"Very High\"]\n",
    "cut_bins = [0, .4, .6, .7, .8, 1]\n",
    "pdf[\"birthplace_bins\"] = pd.cut(pdf[\"birthplace_australia_percent\"],\n",
    "                               bins = cut_bins,\n",
    "                               labels = cut_labels)\n",
    "pdf = pdf.groupby([\"Preferred Party\", \"birthplace_bins\"]).size().reset_index(name = \"Count\")\n",
    "pdf.head()"
   ]
  },
  {
   "cell_type": "code",
   "execution_count": 13,
   "metadata": {},
   "outputs": [
    {
     "data": {
      "text/plain": [
       "<matplotlib.legend.Legend at 0x156caaecf08>"
      ]
     },
     "execution_count": 13,
     "metadata": {},
     "output_type": "execute_result"
    },
    {
     "data": {
      "image/png": "[encoded data removed]",
      "text/plain": [
       "<Figure size 720x432 with 1 Axes>"
      ]
     },
     "metadata": {
      "needs_background": "light"
     },
     "output_type": "display_data"
    }
   ],
   "source": [
    "fig, axes = plt.subplots(nrows = 1, ncols = 1, figsize = (10,6))\n",
    "bar_height = 0.85\n",
    "text_colour = \"white\"\n",
    "lib_colour = \"#aeaeae\"\n",
    "alp_colour = \"#DE3533\"\n",
    "\n",
    "# Set plot values\n",
    "parties = pdf.loc[:,\"Preferred Party\"].unique()\n",
    "birthplace_bins = (pdf.loc[:,\"birthplace_bins\"].unique())\n",
    "\n",
    "for birthplace_bin in birthplace_bins:\n",
    "    # Find the position of the state in the list\n",
    "    position = [i for i,x in enumerate(birthplace_bins) if x == birthplace_bin][0]\n",
    "    \n",
    "    # Calculate Lib/ALP TPP Percent\n",
    "    total = sum(pdf.loc[pdf[\"birthplace_bins\"] == birthplace_bin, \"Count\"])\n",
    "    lib_pct = (pdf.loc[(pdf[\"birthplace_bins\"] == birthplace_bin) & (pdf[\"Preferred Party\"] == \"Liberal\"), \"Count\"] / total) * 100\n",
    "    alp_pct = (pdf.loc[(pdf[\"birthplace_bins\"] == birthplace_bin) & (pdf[\"Preferred Party\"] == \"ALP\"), \"Count\"] / total) * 100\n",
    "    \n",
    "    # Create Horizontal Bar Chart\n",
    "    axes.barh(birthplace_bin, lib_pct, color = lib_colour, edgecolor = \"white\", height = bar_height)\n",
    "    axes.barh(birthplace_bin, alp_pct, left = lib_pct, color = alp_colour, edgecolor = \"white\", height = bar_height)\n",
    "    \n",
    "    # Add text to bars\n",
    "    axes.text(1, position, s = str(round(lib_pct.values[0],1)) + \"%\", color = text_colour, va = \"center\", fontsize = 14)\n",
    "    if alp_pct.values[0] > 0.0:\n",
    "        axes.text(90, position, s = str(round(alp_pct.values[0],1)) + \"%\", color = text_colour, va = \"center\", fontsize = 14)\n",
    "    \n",
    "# Set title\n",
    "axes.set_title(\"Percentage of areas by two-party preferred by proportion of population born overseas\"\n",
    "               ,fontsize = 14\n",
    "               ,ma = \"left\"\n",
    "               ,ha = \"right\"\n",
    "               ,position= (0.95,1))\n",
    "fig.suptitle(\"New and Old Australians\"\n",
    "             ,fontsize = 18\n",
    "             ,ma = \"left\"\n",
    "             ,ha = \"right\"\n",
    "             ,position= (0.431,0.97))\n",
    "\n",
    "# Remove tick marks\n",
    "axes.tick_params(axis = \"both\", length = 0, labelsize = 14)\n",
    "axes.get_xaxis().set_visible(False)\n",
    "\n",
    " # Remove spines\n",
    "axes.spines[\"right\"].set_position(('data', 100))\n",
    "axes.spines[\"top\"].set_visible(False)\n",
    "axes.spines[\"bottom\"].set_visible(False)\n",
    "axes.spines[\"left\"].set_visible(False)\n",
    "axes.spines[\"right\"].set_visible(False)\n",
    "\n",
    "box = axes.get_position()\n",
    "axes.set_position([box.x0, box.y0, box.width * 1, box.height])\n",
    "axes.legend((\"Liberal\",\"ALP\"),fontsize = 14, frameon = False, bbox_to_anchor = (1, 1))"
   ]
  },
  {
   "cell_type": "code",
   "execution_count": 25,
   "metadata": {},
   "outputs": [],
   "source": [
    "# Reset  for language\n",
    "pdf = df[[\"SA2_MAIN16\", \"STE_NAME16\", \"Preferred Party\", \"lang_eng_only_percent\"]]\n",
    "pdf = pdf.loc[pdf[\"STE_NAME16\"] != \"Other Territories\",]\n",
    "pdf = pdf.sort_values(by = [\"STE_NAME16\", \"Preferred Party\"], ascending = True)"
   ]
  },
  {
   "cell_type": "code",
   "execution_count": 26,
   "metadata": {},
   "outputs": [
    {
     "data": {
      "text/html": [
       "<div>\n",
       "<style scoped>\n",
       "    .dataframe tbody tr th:only-of-type {\n",
       "        vertical-align: middle;\n",
       "    }\n",
       "\n",
       "    .dataframe tbody tr th {\n",
       "        vertical-align: top;\n",
       "    }\n",
       "\n",
       "    .dataframe thead th {\n",
       "        text-align: right;\n",
       "    }\n",
       "</style>\n",
       "<table border=\"1\" class=\"dataframe\">\n",
       "  <thead>\n",
       "    <tr style=\"text-align: right;\">\n",
       "      <th></th>\n",
       "      <th>Preferred Party</th>\n",
       "      <th>eng_only_bins</th>\n",
       "      <th>Count</th>\n",
       "    </tr>\n",
       "  </thead>\n",
       "  <tbody>\n",
       "    <tr>\n",
       "      <th>0</th>\n",
       "      <td>ALP</td>\n",
       "      <td>Very High</td>\n",
       "      <td>105</td>\n",
       "    </tr>\n",
       "    <tr>\n",
       "      <th>1</th>\n",
       "      <td>ALP</td>\n",
       "      <td>High</td>\n",
       "      <td>149</td>\n",
       "    </tr>\n",
       "    <tr>\n",
       "      <th>2</th>\n",
       "      <td>ALP</td>\n",
       "      <td>Average</td>\n",
       "      <td>301</td>\n",
       "    </tr>\n",
       "    <tr>\n",
       "      <th>3</th>\n",
       "      <td>ALP</td>\n",
       "      <td>Low</td>\n",
       "      <td>275</td>\n",
       "    </tr>\n",
       "    <tr>\n",
       "      <th>4</th>\n",
       "      <td>ALP</td>\n",
       "      <td>Very Low</td>\n",
       "      <td>92</td>\n",
       "    </tr>\n",
       "  </tbody>\n",
       "</table>\n",
       "</div>"
      ],
      "text/plain": [
       "  Preferred Party eng_only_bins  Count\n",
       "0             ALP     Very High    105\n",
       "1             ALP          High    149\n",
       "2             ALP       Average    301\n",
       "3             ALP           Low    275\n",
       "4             ALP      Very Low     92"
      ]
     },
     "execution_count": 26,
     "metadata": {},
     "output_type": "execute_result"
    }
   ],
   "source": [
    "cut_labels = [\"Very High\",\"High\",\"Average\",\"Low\",\"Very Low\"]\n",
    "cut_bins = [0, .4, .6, .8, .9, 1]\n",
    "pdf[\"eng_only_bins\"] = pd.cut(pdf[\"lang_eng_only_percent\"],\n",
    "                               bins = cut_bins,\n",
    "                               labels = cut_labels)\n",
    "pdf = pdf.groupby([\"Preferred Party\", \"eng_only_bins\"]).size().reset_index(name = \"Count\")\n",
    "pdf.head()"
   ]
  },
  {
   "cell_type": "code",
   "execution_count": 47,
   "metadata": {},
   "outputs": [
    {
     "data": {
      "text/plain": [
       "<matplotlib.legend.Legend at 0x156cdf1b8c8>"
      ]
     },
     "execution_count": 47,
     "metadata": {},
     "output_type": "execute_result"
    },
    {
     "data": {
      "image/png": "[encoded data removed]",
      "text/plain": [
       "<Figure size 720x432 with 1 Axes>"
      ]
     },
     "metadata": {
      "needs_background": "light"
     },
     "output_type": "display_data"
    }
   ],
   "source": [
    "fig, axes = plt.subplots(nrows = 1, ncols = 1, figsize = (10,6))\n",
    "bar_height = 0.85\n",
    "text_colour = \"white\"\n",
    "lib_colour = \"#aeaeae\"\n",
    "alp_colour = \"#DE3533\"\n",
    "\n",
    "# Set plot values\n",
    "parties = pdf.loc[:,\"Preferred Party\"].unique()\n",
    "eng_only_bins = (pdf.loc[:,\"eng_only_bins\"].unique())\n",
    "\n",
    "for eng_only_bin in eng_only_bins:\n",
    "    # Find the position of the state in the list\n",
    "    position = [i for i,x in enumerate(eng_only_bins) if x == eng_only_bin][0]\n",
    "    \n",
    "    # Calculate Lib/ALP TPP Percent\n",
    "    total = sum(pdf.loc[pdf[\"eng_only_bins\"] == eng_only_bin, \"Count\"])\n",
    "    lib_pct = (pdf.loc[(pdf[\"eng_only_bins\"] == eng_only_bin) & (pdf[\"Preferred Party\"] == \"Liberal\"), \"Count\"] / total) * 100\n",
    "    alp_pct = (pdf.loc[(pdf[\"eng_only_bins\"] == eng_only_bin) & (pdf[\"Preferred Party\"] == \"ALP\"), \"Count\"] / total) * 100\n",
    "    \n",
    "    # Create Horizontal Bar Chart\n",
    "    axes.barh(eng_only_bin, lib_pct, color = lib_colour, edgecolor = \"white\", height = bar_height)\n",
    "    axes.barh(eng_only_bin, alp_pct, left = lib_pct, color = alp_colour, edgecolor = \"white\", height = bar_height)\n",
    "    \n",
    "    # Add text to bars\n",
    "    axes.text(1, position, s = str(round(lib_pct.values[0],1)) + \"%\", color = text_colour, va = \"center\", fontsize = 14)\n",
    "    if alp_pct.values[0] > 0.0:\n",
    "        axes.text(90, position, s = str(round(alp_pct.values[0],1)) + \"%\", color = text_colour, va = \"center\", fontsize = 14)\n",
    "    \n",
    "# Set title\n",
    "axes.set_title(\"Percentage of areas by two-party preferred by proportion of population that is multi-lingual\"\n",
    "               ,fontsize = 14\n",
    "               ,ma = \"left\"\n",
    "               ,ha = \"right\"\n",
    "               ,position= (1.05,1))\n",
    "fig.suptitle(\"The Language Barrier\"\n",
    "             ,fontsize = 18\n",
    "             ,ma = \"left\"\n",
    "             ,ha = \"right\"\n",
    "             ,position= (0.315,0.97))\n",
    "\n",
    "# Remove tick marks\n",
    "axes.tick_params(axis = \"both\", length = 0, labelsize = 14)\n",
    "axes.get_xaxis().set_visible(False)\n",
    "\n",
    " # Remove spines\n",
    "axes.spines[\"right\"].set_position(('data', 100))\n",
    "axes.spines[\"top\"].set_visible(False)\n",
    "axes.spines[\"bottom\"].set_visible(False)\n",
    "axes.spines[\"left\"].set_visible(False)\n",
    "axes.spines[\"right\"].set_visible(False)\n",
    "\n",
    "box = axes.get_position()\n",
    "axes.set_position([box.x0, box.y0, box.width * 1, box.height])\n",
    "axes.legend((\"Liberal\",\"ALP\"),fontsize = 14, frameon = False, bbox_to_anchor = (1, 1))"
   ]
  },
  {
   "cell_type": "code",
   "execution_count": 48,
   "metadata": {},
   "outputs": [
    {
     "data": {
      "text/plain": [
       "<matplotlib.legend.Legend at 0x156ce33f888>"
      ]
     },
     "execution_count": 48,
     "metadata": {},
     "output_type": "execute_result"
    },
    {
     "data": {
      "image/png": "[encoded data removed]",
      "text/plain": [
       "<Figure size 720x432 with 1 Axes>"
      ]
     },
     "metadata": {
      "needs_background": "light"
     },
     "output_type": "display_data"
    }
   ],
   "source": [
    "fig, axes = plt.subplots(nrows = 1, ncols = 1, figsize = (10,6))\n",
    "bar_height = 0.85\n",
    "text_colour = \"white\"\n",
    "lib_colour = \"#0047AB\"\n",
    "alp_colour = \"#DE3533\"\n",
    "\n",
    "# Set plot values\n",
    "parties = pdf.loc[:,\"Preferred Party\"].unique()\n",
    "eng_only_bins = (pdf.loc[:,\"eng_only_bins\"].unique())\n",
    "\n",
    "for eng_only_bin in eng_only_bins:\n",
    "    # Find the position of the state in the list\n",
    "    position = [i for i,x in enumerate(eng_only_bins) if x == eng_only_bin][0]\n",
    "    \n",
    "    # Calculate Lib/ALP TPP Percent\n",
    "    total = sum(pdf.loc[pdf[\"eng_only_bins\"] == eng_only_bin, \"Count\"])\n",
    "    lib_pct = (pdf.loc[(pdf[\"eng_only_bins\"] == eng_only_bin) & (pdf[\"Preferred Party\"] == \"Liberal\"), \"Count\"] / total) * 100\n",
    "    alp_pct = (pdf.loc[(pdf[\"eng_only_bins\"] == eng_only_bin) & (pdf[\"Preferred Party\"] == \"ALP\"), \"Count\"] / total) * 100\n",
    "    \n",
    "    # Create Horizontal Bar Chart\n",
    "    axes.barh(eng_only_bin, lib_pct, color = lib_colour, edgecolor = \"white\", height = bar_height)\n",
    "    axes.barh(eng_only_bin, alp_pct, left = lib_pct, color = alp_colour, edgecolor = \"white\", height = bar_height)\n",
    "    \n",
    "    # Add text to bars\n",
    "    axes.text(1, position, s = str(round(lib_pct.values[0],1)) + \"%\", color = text_colour, va = \"center\", fontsize = 14)\n",
    "    if alp_pct.values[0] > 0.0:\n",
    "        axes.text(90, position, s = str(round(alp_pct.values[0],1)) + \"%\", color = text_colour, va = \"center\", fontsize = 14)\n",
    "    \n",
    "# Set title\n",
    "axes.set_title(\"Percentage of areas by two-party preferred by proportion of population that is multi-lingual\"\n",
    "               ,fontsize = 14\n",
    "               ,ma = \"left\"\n",
    "               ,ha = \"right\"\n",
    "               ,position= (1.05,1))\n",
    "fig.suptitle(\"The Language Barrier\"\n",
    "             ,fontsize = 18\n",
    "             ,ma = \"left\"\n",
    "             ,ha = \"right\"\n",
    "             ,position= (0.315,0.97))\n",
    "\n",
    "# Remove tick marks\n",
    "axes.tick_params(axis = \"both\", length = 0, labelsize = 14)\n",
    "axes.get_xaxis().set_visible(False)\n",
    "\n",
    " # Remove spines\n",
    "axes.spines[\"right\"].set_position(('data', 100))\n",
    "axes.spines[\"top\"].set_visible(False)\n",
    "axes.spines[\"bottom\"].set_visible(False)\n",
    "axes.spines[\"left\"].set_visible(False)\n",
    "axes.spines[\"right\"].set_visible(False)\n",
    "\n",
    "box = axes.get_position()\n",
    "axes.set_position([box.x0, box.y0, box.width * 1, box.height])\n",
    "axes.legend((\"Liberal\",\"ALP\"),fontsize = 14, frameon = False, bbox_to_anchor = (1, 1))"
   ]
  },
  {
   "cell_type": "code",
   "execution_count": null,
   "metadata": {},
   "outputs": [],
   "source": []
  }
 ],
 "metadata": {
  "kernelspec": {
   "display_name": "Python 3",
   "language": "python",
   "name": "python3"
  },
  "language_info": {
   "codemirror_mode": {
    "name": "ipython",
    "version": 3
   },
   "file_extension": ".py",
   "mimetype": "text/x-python",
   "name": "python",
   "nbconvert_exporter": "python",
   "pygments_lexer": "ipython3",
   "version": "3.7.7"
  }
 },
 "nbformat": 4,
 "nbformat_minor": 4
}
